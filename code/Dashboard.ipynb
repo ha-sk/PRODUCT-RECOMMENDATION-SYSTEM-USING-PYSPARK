{
  "cells": [
    {
      "cell_type": "code",
      "execution_count": 2,
      "metadata": {
        "colab": {
          "base_uri": "https://localhost:8080/"
        },
        "id": "Vpn4rAA5TSTa",
        "outputId": "88c6e899-a1d9-41c8-9aa5-f3a750c0657f"
      },
      "outputs": [
        {
          "name": "stdout",
          "output_type": "stream",
          "text": [
            "Mounted at /content/drive/\n"
          ]
        }
      ],
      "source": [
        "from google.colab import drive\n",
        "\n",
        "drive.mount('/content/drive/', force_remount=True)"
      ]
    },
    {
      "cell_type": "code",
      "execution_count": 3,
      "metadata": {
        "colab": {
          "base_uri": "https://localhost:8080/"
        },
        "id": "RvlYkCQ9vFiy",
        "outputId": "e5257f54-e5c3-4c54-91d0-c765e3b660e4"
      },
      "outputs": [
        {
          "name": "stdout",
          "output_type": "stream",
          "text": [
            "\u001b[2K     \u001b[90m━━━━━━━━━━━━━━━━━━━━━━━━━━━━━━━━━━━━━━━━\u001b[0m \u001b[32m9.6/9.6 MB\u001b[0m \u001b[31m63.1 MB/s\u001b[0m eta \u001b[36m0:00:00\u001b[0m\n",
            "\u001b[2K     \u001b[90m━━━━━━━━━━━━━━━━━━━━━━━━━━━━━━━━━━━━━━\u001b[0m \u001b[32m184.3/184.3 KB\u001b[0m \u001b[31m21.9 MB/s\u001b[0m eta \u001b[36m0:00:00\u001b[0m\n",
            "\u001b[2K     \u001b[90m━━━━━━━━━━━━━━━━━━━━━━━━━━━━━━━━━━━━━━\u001b[0m \u001b[32m164.8/164.8 KB\u001b[0m \u001b[31m19.5 MB/s\u001b[0m eta \u001b[36m0:00:00\u001b[0m\n",
            "\u001b[2K     \u001b[90m━━━━━━━━━━━━━━━━━━━━━━━━━━━━━━━━━━━━━━━━\u001b[0m \u001b[32m80.6/80.6 KB\u001b[0m \u001b[31m10.9 MB/s\u001b[0m eta \u001b[36m0:00:00\u001b[0m\n",
            "\u001b[?25h  Preparing metadata (setup.py) ... \u001b[?25l\u001b[?25hdone\n",
            "\u001b[2K     \u001b[90m━━━━━━━━━━━━━━━━━━━━━━━━━━━━━━━━━━━━━━━━\u001b[0m \u001b[32m4.7/4.7 MB\u001b[0m \u001b[31m98.1 MB/s\u001b[0m eta \u001b[36m0:00:00\u001b[0m\n",
            "\u001b[2K     \u001b[90m━━━━━━━━━━━━━━━━━━━━━━━━━━━━━━━━━━━━━━\u001b[0m \u001b[32m238.7/238.7 KB\u001b[0m \u001b[31m25.3 MB/s\u001b[0m eta \u001b[36m0:00:00\u001b[0m\n",
            "\u001b[2K     \u001b[90m━━━━━━━━━━━━━━━━━━━━━━━━━━━━━━━━━━━━━━━━\u001b[0m \u001b[32m62.7/62.7 KB\u001b[0m \u001b[31m8.3 MB/s\u001b[0m eta \u001b[36m0:00:00\u001b[0m\n",
            "\u001b[2K     \u001b[90m━━━━━━━━━━━━━━━━━━━━━━━━━━━━━━━━━━━━━━━━\u001b[0m \u001b[32m84.5/84.5 KB\u001b[0m \u001b[31m11.0 MB/s\u001b[0m eta \u001b[36m0:00:00\u001b[0m\n",
            "\u001b[2K     \u001b[90m━━━━━━━━━━━━━━━━━━━━━━━━━━━━━━━━━━━━━━━━\u001b[0m \u001b[32m1.1/1.1 MB\u001b[0m \u001b[31m67.7 MB/s\u001b[0m eta \u001b[36m0:00:00\u001b[0m\n",
            "\u001b[?25h  Building wheel for validators (setup.py) ... \u001b[?25l\u001b[?25hdone\n",
            "\u001b[31mERROR: pip's dependency resolver does not currently take into account all the packages that are installed. This behaviour is the source of the following dependency conflicts.\n",
            "ipython 7.9.0 requires jedi>=0.10, which is not installed.\u001b[0m\u001b[31m\n",
            "\u001b[0m"
          ]
        }
      ],
      "source": [
        "!pip install -q streamlit"
      ]
    },
    {
      "cell_type": "code",
      "execution_count": 4,
      "metadata": {
        "colab": {
          "base_uri": "https://localhost:8080/"
        },
        "id": "P9NES2KdVuJV",
        "outputId": "8571d3c3-e784-4ab2-ae2c-ae801c9aada1"
      },
      "outputs": [
        {
          "name": "stdout",
          "output_type": "stream",
          "text": [
            "Looking in indexes: https://pypi.org/simple, https://us-python.pkg.dev/colab-wheels/public/simple/\n",
            "Collecting pyspark\n",
            "  Downloading pyspark-3.3.2.tar.gz (281.4 MB)\n",
            "\u001b[2K     \u001b[90m━━━━━━━━━━━━━━━━━━━━━━━━━━━━━━━━━━━━━━━\u001b[0m \u001b[32m281.4/281.4 MB\u001b[0m \u001b[31m5.4 MB/s\u001b[0m eta \u001b[36m0:00:00\u001b[0m\n",
            "\u001b[?25h  Preparing metadata (setup.py) ... \u001b[?25l\u001b[?25hdone\n",
            "Collecting py4j==0.10.9.5\n",
            "  Downloading py4j-0.10.9.5-py2.py3-none-any.whl (199 kB)\n",
            "\u001b[2K     \u001b[90m━━━━━━━━━━━━━━━━━━━━━━━━━━━━━━━━━━━━━━\u001b[0m \u001b[32m199.7/199.7 KB\u001b[0m \u001b[31m22.0 MB/s\u001b[0m eta \u001b[36m0:00:00\u001b[0m\n",
            "\u001b[?25hBuilding wheels for collected packages: pyspark\n",
            "  Building wheel for pyspark (setup.py) ... \u001b[?25l\u001b[?25hdone\n",
            "  Created wheel for pyspark: filename=pyspark-3.3.2-py2.py3-none-any.whl size=281824025 sha256=4f76a2cbd3c9d976691f3efe338d528ee945b0a15ca94ad715fc499a54d6ceaf\n",
            "  Stored in directory: /root/.cache/pip/wheels/6c/e3/9b/0525ce8a69478916513509d43693511463c6468db0de237c86\n",
            "Successfully built pyspark\n",
            "Installing collected packages: py4j, pyspark\n",
            "Successfully installed py4j-0.10.9.5 pyspark-3.3.2\n"
          ]
        }
      ],
      "source": [
        "\n",
        "!pip install pyspark"
      ]
    },
    {
      "attachments": {},
      "cell_type": "markdown",
      "metadata": {
        "id": "waCfwniZOow8"
      },
      "source": [
        "## Create a streamlit app \n"
      ]
    },
    {
      "cell_type": "code",
      "execution_count": 33,
      "metadata": {
        "colab": {
          "base_uri": "https://localhost:8080/"
        },
        "id": "meJ36PefNftd",
        "outputId": "785c0d8f-e4b4-454c-a4bf-7458ba8ceecd"
      },
      "outputs": [
        {
          "name": "stdout",
          "output_type": "stream",
          "text": [
            "Overwriting app.py\n"
          ]
        }
      ],
      "source": [
        "%%writefile app.py\n",
        "\n",
        "import streamlit as st\n",
        "from pyspark.sql import SparkSession\n",
        "from pyspark.sql.functions import desc, col\n",
        "from pyspark.ml.recommendation import ALSModel\n",
        "from collections.abc import Iterable\n",
        "from pyspark.sql.functions import explode\n",
        "from pyspark.sql.types import DoubleType, IntegerType\n",
        "from pyspark.ml.feature import StringIndexer\n",
        "import altair as alt\n",
        "import pandas as pd\n",
        "\n",
        "# Load the trained ALS model\n",
        "spark = SparkSession.builder.appName(\"RecommendationSystem\").getOrCreate()\n",
        "model = ALSModel.load(\"/content/drive/MyDrive/Colab Notebooks/PRS/best_model\")\n",
        "\n",
        "\n",
        "df2 = spark.read.csv(\"/content/drive/MyDrive/Colab Notebooks/PRS/cleanedata/products.csv\", header=True, inferSchema=True)\n",
        "df3 = spark.read.csv(\"/content/drive/MyDrive/Colab Notebooks/PRS/cleanedata/ratings.csv\", header=True, inferSchema=True)\n",
        "df1 = spark.read.csv(\"/content/drive/MyDrive/Colab Notebooks/PRS/cleanedata/customers.csv\", header=True, inferSchema=True)\n",
        "\n",
        "# Join ratings_df with customers_df and products_df on customerid and productid respectively\n",
        "df4 = df3.join(df1, df3.customerid == df1.id)\n",
        "df4 = df4.drop(\"id\")\n",
        "df = df4.join(df2, df3.productid == df2.id)\n",
        "df = df.drop(\"id\")\n",
        "\n",
        "# Converting data type of rating to double type\n",
        "df = df.withColumn(\"rate\", df[\"rate\"].cast(DoubleType()))\n",
        "\n",
        "# Indexing customerid column into integer type\n",
        "user_model = StringIndexer(inputCol=\"customerid\", outputCol=\"customer_id_index\").fit(df)\n",
        "indexed = user_model.transform(df)\n",
        "indexed_df = indexed.select(indexed[\"customer_id_index\"].cast(IntegerType()).alias(\"customerid\"), indexed[\"productid\"], indexed[\"rate\"])\n",
        "\n",
        "# Indexing productid column into integer type\n",
        "prod_model = StringIndexer(inputCol=\"productid\", outputCol=\"prod_id_index\").fit(indexed_df)\n",
        "p_indexed = prod_model.transform(indexed_df)\n",
        "als_df = p_indexed.select(p_indexed[\"customerid\"], p_indexed[\"prod_id_index\"].cast(IntegerType()).alias(\"productid\"), p_indexed[\"rate\"])\n",
        "\n",
        "\n",
        "\n",
        "# Create a function that generates recommendations based on popularity\n",
        "def generate_popular_recommendations():\n",
        "    # Generate data for bar chart\n",
        "    product_counts = df2.groupBy(\"id\").count().orderBy(desc(\"count\")).take(10)\n",
        "    recommendations = [product[0] for product in product_counts]\n",
        "    product_names = [df2.filter(col(\"id\") == product[0]).select(\"name\").collect()[0][0] if df2.filter(col(\"id\") == product[0]).count() > 0 else \"\" for product in product_counts]\n",
        "    product_counts = [product[0] for product in product_counts]\n",
        "    chart_data = pd.DataFrame({\"Product Name\": product_names, \"Number of Ratings\": product_counts})\n",
        "    \n",
        "    # Display bar chart\n",
        "    st.subheader(\"Top 10 Most Popular Products\")\n",
        "    chart = alt.Chart(chart_data).mark_bar().encode(x=\"Product Name\", y=\"Number of Ratings\")\n",
        "    st.altair_chart(chart, use_container_width=True)\n",
        "    \n",
        "    return recommendations\n",
        "\n",
        "\n",
        "def generate_collaborative_recommendations(customer_id):\n",
        "    recommendations = model.recommendForUserSubset(\n",
        "        spark.createDataFrame([(customer_id,)], [\"customerid\"]),\n",
        "        numItems=10\n",
        "    )\n",
        "    recommendations = recommendations \\\n",
        "        .withColumn(\"rec_exp\", explode(\"recommendations\")) \\\n",
        "        .select('customerid', col(\"rec_exp.productid\"), col(\"rec_exp.rating\"))\n",
        "    recommendations = recommendations.join(df2, recommendations.productid == df2.id) \\\n",
        "        .select(\"name\", \"unitprice\") \\\n",
        "        .orderBy(desc(\"rating\"))\n",
        "    return recommendations\n",
        "\n",
        "\n",
        "\n",
        "\n",
        "\n",
        "\n",
        "\n",
        "# Add page title\n",
        "st.set_page_config(page_title=\"Product Recommendation System\", page_icon=\":guardsman:\", layout=\"wide\")\n",
        "\n",
        "# Add custom CSS\n",
        "st.markdown(\"\"\"\n",
        "<style>\n",
        "    body {\n",
        "        background-color: #f5f5f5;\n",
        "    }\n",
        "    .stButton button {\n",
        "        background-color: #009688;\n",
        "        color: white;\n",
        "        font-weight: bold;\n",
        "    }\n",
        "    .stTable td {\n",
        "        font-size: 18px;\n",
        "        background-color: #ffffff;\n",
        "        border: 1px solid #cccccc;\n",
        "    }\n",
        "    .stTable th {\n",
        "        font-size: 20px;\n",
        "        background-color: #009688;\n",
        "        color: white;\n",
        "        border: 1px solid #cccccc;\n",
        "    }\n",
        "</style>\n",
        "\"\"\", unsafe_allow_html=True)\n",
        "\n",
        "# Add title and description\n",
        "st.title(\"Product Recommendation System\")\n",
        "st.markdown(\"This app recommends products to customers using a collaborative filtering algorithm.\")\n",
        "\n",
        "placeholder = st.empty()\n",
        "\n",
        "with placeholder.container():\n",
        "    # Row A   Some Basic information about data\n",
        "    st.markdown('### General Details')\n",
        "    col1, col2, col3 = st.columns(3)\n",
        "    col1.metric(\"Number of Products\", len(df2.select(\"id\").distinct().collect()))\n",
        "    col2.metric(\"Number of Ratings\", str(df3.count()))\n",
        "    col3.metric(\"Average Rating\", str(round(df3.agg({\"rate\": \"avg\"}).collect()[0][0], 2)))\n",
        "\n",
        "\n",
        "# Add sidebar with filters and metrics\n",
        "st.sidebar.image(\"/content/drive/MyDrive/Colab Notebooks/PRS/prs.png\", use_column_width=True)\n",
        "st.sidebar.title(\"Filters\")\n",
        "recommendation_type = st.sidebar.radio(\"Select Recommendation Type:\", [\"Popularity-based\", \"Collaborative Filtering\"])\n",
        "if recommendation_type == \"Collaborative Filtering\":\n",
        "    # Display Collaborative Filtering table for all users\n",
        "    #st.write(\"Collaborative Filtering table for all users:\")\n",
        "    #nrecommendations = generate_all_users_collaborative_recommendations()\n",
        "    #st.table(nrecommendations.toPandas())\n",
        "    \n",
        "    customer_id = st.number_input(\"Enter Customer ID (for Collaborative Filtering only):\")\n",
        "    user_exists = als_df.filter(col(\"customerid\") == customer_id).count() > 0\n",
        "    if not user_exists:\n",
        "        st.warning(\"New user detected. Generating popularity-based recommendations.\")\n",
        "        recommendation_type = \"Popularity-based\"\n",
        "\n",
        "# Generate recommendations\n",
        "if st.button(\"Generate Recommendations\"):\n",
        "    if recommendation_type == \"Popularity-based\":\n",
        "        recommendations = generate_popular_recommendations()\n",
        "        product_info = df2.filter(col(\"id\").isin(recommendations)).select(\"name\", \"unitprice\").collect()\n",
        "        st.subheader(\"Recommendations:\")\n",
        "        st.table(product_info)\n",
        "    else:\n",
        "        recommendations = generate_collaborative_recommendations(customer_id)\n",
        "        st.subheader(f\"Recommendations for customer ID {customer_id}:\")\n",
        "        st.table(recommendations.toPandas())\n"
      ]
    },
    {
      "cell_type": "markdown",
      "metadata": {
        "id": "xZlEJkmSOoxC"
      },
      "source": [
        "## Install localtunnel"
      ]
    },
    {
      "cell_type": "code",
      "execution_count": 34,
      "metadata": {
        "colab": {
          "base_uri": "https://localhost:8080/"
        },
        "id": "ZAyqQCQVOoxC",
        "outputId": "fd4e3dbe-ebf8-4f02-affa-274da0a1cc22"
      },
      "outputs": [
        {
          "name": "stdout",
          "output_type": "stream",
          "text": [
            "\u001b[K\u001b[?25h\u001b[37;40mnpm\u001b[0m \u001b[0m\u001b[30;43mWARN\u001b[0m \u001b[0m\u001b[35msaveError\u001b[0m ENOENT: no such file or directory, open '/content/package.json'\n",
            "\u001b[0m\u001b[37;40mnpm\u001b[0m \u001b[0m\u001b[30;43mWARN\u001b[0m \u001b[0m\u001b[35menoent\u001b[0m ENOENT: no such file or directory, open '/content/package.json'\n",
            "\u001b[0m\u001b[37;40mnpm\u001b[0m \u001b[0m\u001b[30;43mWARN\u001b[0m\u001b[35m\u001b[0m content No description\n",
            "\u001b[0m\u001b[37;40mnpm\u001b[0m \u001b[0m\u001b[30;43mWARN\u001b[0m\u001b[35m\u001b[0m content No repository field.\n",
            "\u001b[0m\u001b[37;40mnpm\u001b[0m \u001b[0m\u001b[30;43mWARN\u001b[0m\u001b[35m\u001b[0m content No README data\n",
            "\u001b[0m\u001b[37;40mnpm\u001b[0m \u001b[0m\u001b[30;43mWARN\u001b[0m\u001b[35m\u001b[0m content No license field.\n",
            "\u001b[0m\n",
            "\u001b[K\u001b[?25h+ localtunnel@2.0.2\n",
            "updated 1 package and audited 36 packages in 0.461s\n",
            "\n",
            "3 packages are looking for funding\n",
            "  run `npm fund` for details\n",
            "\n",
            "found \u001b[92m0\u001b[0m vulnerabilities\n",
            "\n"
          ]
        }
      ],
      "source": [
        "!npm install localtunnel"
      ]
    },
    {
      "cell_type": "markdown",
      "metadata": {
        "id": "kccYE2lkN20y"
      },
      "source": [
        "## Run streamlit in background"
      ]
    },
    {
      "cell_type": "code",
      "execution_count": 35,
      "metadata": {
        "id": "Zv912rRAN0fs"
      },
      "outputs": [],
      "source": [
        "!streamlit run /content/app.py &>/content/logs.txt &"
      ]
    },
    {
      "cell_type": "markdown",
      "metadata": {
        "id": "h_KW9juhOCuH"
      },
      "source": [
        "## Expose the port 8501\n",
        "Then just click in the `url` showed.\n",
        "\n",
        "A `log.txt`file will be created."
      ]
    },
    {
      "cell_type": "code",
      "execution_count": 36,
      "metadata": {
        "colab": {
          "base_uri": "https://localhost:8080/"
        },
        "id": "XTGAizLhOIgC",
        "outputId": "fda2547a-8470-4019-a430-a760849b849b"
      },
      "outputs": [
        {
          "name": "stdout",
          "output_type": "stream",
          "text": [
            "\u001b[K\u001b[?25hnpx: installed 22 in 2.061s\n",
            "your url is: https://nice-pets-share-35-184-192-197.loca.lt\n",
            "^C\n"
          ]
        }
      ],
      "source": [
        "!npx localtunnel --port 8501"
      ]
    }
  ],
  "metadata": {
    "colab": {
      "provenance": []
    },
    "kernelspec": {
      "display_name": "Python 3",
      "name": "python3"
    }
  },
  "nbformat": 4,
  "nbformat_minor": 0
}
