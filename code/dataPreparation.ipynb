{
 "cells": [
  {
   "cell_type": "code",
   "execution_count": 1,
   "id": "dd726922",
   "metadata": {},
   "outputs": [],
   "source": [
    "from pyspark.sql import SparkSession\n",
    "from pyspark.sql.functions import *\n",
    "from pyspark.sql.types import *\n",
    "from pyspark.sql import functions as F\n",
    "import datetime"
   ]
  },
  {
   "cell_type": "code",
   "execution_count": 2,
   "id": "741d8b01",
   "metadata": {},
   "outputs": [],
   "source": [
    "# create Spark session\n",
    "spark = SparkSession.builder.appName(\"HiveDatabases\").enableHiveSupport().getOrCreate()\n"
   ]
  },
  {
   "cell_type": "code",
   "execution_count": 3,
   "id": "0b4a5671",
   "metadata": {},
   "outputs": [],
   "source": [
    "# show all the databases in Hive\n",
    "df1 = spark.sql(\"SELECT * FROM commerce.customers\")"
   ]
  },
  {
   "cell_type": "code",
   "execution_count": 4,
   "id": "59672a9c",
   "metadata": {},
   "outputs": [
    {
     "data": {
      "text/plain": [
       "DataFrame[id: int, nickname: string]"
      ]
     },
     "execution_count": 4,
     "metadata": {},
     "output_type": "execute_result"
    }
   ],
   "source": [
    "df1"
   ]
  },
  {
   "cell_type": "code",
   "execution_count": 5,
   "id": "0e141d78",
   "metadata": {},
   "outputs": [
    {
     "data": {
      "text/plain": [
       "['id', 'nickname']"
      ]
     },
     "execution_count": 5,
     "metadata": {},
     "output_type": "execute_result"
    }
   ],
   "source": [
    "df1.columns"
   ]
  },
  {
   "cell_type": "code",
   "execution_count": 6,
   "id": "a8f46f25",
   "metadata": {},
   "outputs": [
    {
     "name": "stderr",
     "output_type": "stream",
     "text": [
      "\r",
      "[Stage 0:>                                                          (0 + 1) / 1]\r"
     ]
    },
    {
     "name": "stdout",
     "output_type": "stream",
     "text": [
      "Number of rows:  678\n"
     ]
    },
    {
     "name": "stderr",
     "output_type": "stream",
     "text": [
      "\r",
      "                                                                                \r"
     ]
    }
   ],
   "source": [
    "# check the number of rows in the DataFrame\n",
    "print(\"Number of rows: \", df1.count())"
   ]
  },
  {
   "cell_type": "code",
   "execution_count": 7,
   "id": "3b2c4e25",
   "metadata": {},
   "outputs": [
    {
     "name": "stdout",
     "output_type": "stream",
     "text": [
      "root\n",
      " |-- id: integer (nullable = true)\n",
      " |-- nickname: string (nullable = true)\n",
      "\n"
     ]
    }
   ],
   "source": [
    "# check the schema of the DataFrame\n",
    "df1.printSchema()"
   ]
  },
  {
   "cell_type": "code",
   "execution_count": 8,
   "id": "5b4a35b3",
   "metadata": {},
   "outputs": [
    {
     "name": "stdout",
     "output_type": "stream",
     "text": [
      "+-----+-----------------+\n",
      "|   id|         nickname|\n",
      "+-----+-----------------+\n",
      "|    1|            admin|\n",
      "|    2|      steve_gates|\n",
      "|    3|    arthur_holmes|\n",
      "|    4|        james_pan|\n",
      "|    5|  brenda_lindgren|\n",
      "|    6|victoria_victoria|\n",
      "|13874|      pheptb17411|\n",
      "|13878|     nghiatd17411|\n",
      "|13879|     thuanta17411|\n",
      "|13885|     duongnt17411|\n",
      "+-----+-----------------+\n",
      "only showing top 10 rows\n",
      "\n"
     ]
    }
   ],
   "source": [
    "# check the first 10 rows of the DataFrame\n",
    "df1.show(10)"
   ]
  },
  {
   "cell_type": "markdown",
   "id": "3197f670",
   "metadata": {},
   "source": [
    "================================================================================================================================================================="
   ]
  },
  {
   "cell_type": "code",
   "execution_count": 9,
   "id": "c9e9edef",
   "metadata": {},
   "outputs": [],
   "source": [
    "# show all the databases in Hive\n",
    "df2 = spark.sql(\"SELECT * FROM commerce.products\")"
   ]
  },
  {
   "cell_type": "code",
   "execution_count": 10,
   "id": "28c3ed10",
   "metadata": {},
   "outputs": [
    {
     "data": {
      "text/plain": [
       "DataFrame[id: int, name: string, unitprice: double]"
      ]
     },
     "execution_count": 10,
     "metadata": {},
     "output_type": "execute_result"
    }
   ],
   "source": [
    "df2"
   ]
  },
  {
   "cell_type": "code",
   "execution_count": 11,
   "id": "880fcbee",
   "metadata": {},
   "outputs": [
    {
     "data": {
      "text/plain": [
       "['id', 'name', 'unitprice']"
      ]
     },
     "execution_count": 11,
     "metadata": {},
     "output_type": "execute_result"
    }
   ],
   "source": [
    "df2.columns"
   ]
  },
  {
   "cell_type": "code",
   "execution_count": 12,
   "id": "e8822a39",
   "metadata": {},
   "outputs": [
    {
     "name": "stdout",
     "output_type": "stream",
     "text": [
      "Number of rows:  691\n"
     ]
    }
   ],
   "source": [
    "# check the number of rows in the DataFrame\n",
    "print(\"Number of rows: \", df2.count())"
   ]
  },
  {
   "cell_type": "code",
   "execution_count": 13,
   "id": "a2cf4bd6",
   "metadata": {},
   "outputs": [
    {
     "name": "stdout",
     "output_type": "stream",
     "text": [
      "root\n",
      " |-- id: integer (nullable = true)\n",
      " |-- name: string (nullable = true)\n",
      " |-- unitprice: double (nullable = true)\n",
      "\n"
     ]
    }
   ],
   "source": [
    "# check the schema of the DataFrame\n",
    "df2.printSchema()"
   ]
  },
  {
   "cell_type": "code",
   "execution_count": 14,
   "id": "5e65b436",
   "metadata": {},
   "outputs": [
    {
     "name": "stdout",
     "output_type": "stream",
     "text": [
      "+---+--------------------+---------+\n",
      "| id|                name|unitprice|\n",
      "+---+--------------------+---------+\n",
      "|  1|Build your own co...|   1200.0|\n",
      "|  2|Digital Storm VAN...|   1259.0|\n",
      "|  3|Lenovo IdeaCentre...|    500.0|\n",
      "|  4|Apple MacBook Pro...|   1800.0|\n",
      "|  5|Asus N551JK-XO076...|   1500.0|\n",
      "|  6|Samsung Series 9 ...|   1590.0|\n",
      "|  7|HP Spectre XT Pro...|   1350.0|\n",
      "|  8|HP Envy 6-1180ca ...|   1460.0|\n",
      "|  9|Lenovo Thinkpad X...|   1360.0|\n",
      "| 10| Adobe Photoshop CS4|     75.0|\n",
      "+---+--------------------+---------+\n",
      "only showing top 10 rows\n",
      "\n"
     ]
    }
   ],
   "source": [
    "# check the first 10 rows of the DataFrame\n",
    "df2.show(10)"
   ]
  },
  {
   "cell_type": "markdown",
   "id": "5ad881fc",
   "metadata": {},
   "source": [
    "================================================================================================================================================================="
   ]
  },
  {
   "cell_type": "code",
   "execution_count": 15,
   "id": "4f88d1e5",
   "metadata": {},
   "outputs": [],
   "source": [
    "# show all the databases in Hive\n",
    "df3 = spark.sql(\"SELECT * FROM commerce.ratings\")"
   ]
  },
  {
   "cell_type": "code",
   "execution_count": 16,
   "id": "3bba962b",
   "metadata": {},
   "outputs": [
    {
     "data": {
      "text/plain": [
       "DataFrame[createdate: string, customerid: int, productid: int, rate: int]"
      ]
     },
     "execution_count": 16,
     "metadata": {},
     "output_type": "execute_result"
    }
   ],
   "source": [
    "df3"
   ]
  },
  {
   "cell_type": "code",
   "execution_count": 17,
   "id": "90292eab",
   "metadata": {},
   "outputs": [
    {
     "data": {
      "text/plain": [
       "['createdate', 'customerid', 'productid', 'rate']"
      ]
     },
     "execution_count": 17,
     "metadata": {},
     "output_type": "execute_result"
    }
   ],
   "source": [
    "df3.columns"
   ]
  },
  {
   "cell_type": "code",
   "execution_count": 18,
   "id": "f7c2de07",
   "metadata": {},
   "outputs": [
    {
     "name": "stdout",
     "output_type": "stream",
     "text": [
      "Number of rows:  130754\n"
     ]
    }
   ],
   "source": [
    "# check the number of rows in the DataFrame\n",
    "print(\"Number of rows: \", df3.count())"
   ]
  },
  {
   "cell_type": "code",
   "execution_count": 19,
   "id": "071b84bb",
   "metadata": {},
   "outputs": [
    {
     "name": "stdout",
     "output_type": "stream",
     "text": [
      "root\n",
      " |-- createdate: string (nullable = true)\n",
      " |-- customerid: integer (nullable = true)\n",
      " |-- productid: integer (nullable = true)\n",
      " |-- rate: integer (nullable = true)\n",
      "\n"
     ]
    }
   ],
   "source": [
    "# check the schema of the DataFrame\n",
    "df3.printSchema()"
   ]
  },
  {
   "cell_type": "code",
   "execution_count": 20,
   "id": "1ba35f86",
   "metadata": {},
   "outputs": [
    {
     "name": "stdout",
     "output_type": "stream",
     "text": [
      "+----------+----------+---------+----+\n",
      "|createdate|customerid|productid|rate|\n",
      "+----------+----------+---------+----+\n",
      "|2017-12-31|    103416|      619|   1|\n",
      "|2017-12-31|    103654|      411|   1|\n",
      "|2017-12-31|    103954|      298|   3|\n",
      "|2017-12-31|    103672|      361|   5|\n",
      "|2017-12-31|    103960|      536|   5|\n",
      "|2017-12-31|    103372|      481|   2|\n",
      "|2017-12-31|    103444|      132|   1|\n",
      "|2017-12-31|    103831|       41|   1|\n",
      "|2017-12-31|    103541|      498|   5|\n",
      "|2017-12-31|    103819|      155|   4|\n",
      "+----------+----------+---------+----+\n",
      "only showing top 10 rows\n",
      "\n"
     ]
    }
   ],
   "source": [
    "# check the first 10 rows of the DataFrame\n",
    "df3.show(10)"
   ]
  },
  {
   "cell_type": "markdown",
   "id": "34b61098",
   "metadata": {},
   "source": [
    "## 1. Cleaning: This task involves removing or correcting any invalid, incomplete, or irrelevant data. For example, you can drop rows with missing values, remove duplicate rows, or correct any incorrect data values."
   ]
  },
  {
   "cell_type": "code",
   "execution_count": 21,
   "id": "90702324",
   "metadata": {},
   "outputs": [],
   "source": [
    "# drop rows with missing values\n",
    "df1 = df1.dropna()\n",
    "df2 = df2.dropna()\n",
    "df3 = df3.dropna()\n",
    "\n",
    "# remove duplicate rows\n",
    "df1 = df1.dropDuplicates()\n",
    "df2 = df2.dropDuplicates()\n",
    "df3 = df3.dropDuplicates()\n",
    "\n",
    "# Correct any incorrect values in the \"Rate\" column\n",
    "df3 = df3.filter((df3[\"Rate\"] >= 1) & (df3[\"Rate\"] <= 5))"
   ]
  },
  {
   "cell_type": "markdown",
   "id": "481b08e3",
   "metadata": {},
   "source": [
    "## 2. Normalization: This task involves transforming the data into a consistent format. For example, you can standardize the date format, convert all string values to lowercase, or map categorical values to numerical values."
   ]
  },
  {
   "cell_type": "code",
   "execution_count": 22,
   "id": "42212793",
   "metadata": {},
   "outputs": [],
   "source": [
    "# Convert all the strings in the 'nickName' column to lowercase\n",
    "df1 = df1.withColumn(\"nickname\", lower(df1[\"nickname\"]))"
   ]
  },
  {
   "cell_type": "code",
   "execution_count": 23,
   "id": "8756ba7c",
   "metadata": {},
   "outputs": [],
   "source": [
    "# Convert the \"Name\" column to lowercase\n",
    "df2 = df2.withColumn(\"Name\", lower(df2[\"Name\"]))"
   ]
  },
  {
   "cell_type": "code",
   "execution_count": 24,
   "id": "011b0ea2",
   "metadata": {},
   "outputs": [],
   "source": [
    "# Map the \"Rate\" column values to numerical values (1 = poor, 2 = average, 3 = good, 4 = very good, 5 = excellent)\n",
    "#map_udf = udf(lambda x: 1 if x == 1 else 2 if x == 2 else 3 if x == 3 else 4 if x == 4 else 5, IntegerType())\n",
    "#df3 = df3.withColumn(\"Rate\", map_udf(df3[\"Rate\"]))"
   ]
  },
  {
   "cell_type": "markdown",
   "id": "308db7f2",
   "metadata": {},
   "source": [
    "## 3. Feature Engineering: This task involves creating new features or variables from the existing data. For example, you can create new columns by extracting information from existing columns, create interaction variables between multiple columns, or create dummy variables for categorical variables."
   ]
  },
  {
   "cell_type": "code",
   "execution_count": 25,
   "id": "cfa085ed",
   "metadata": {},
   "outputs": [],
   "source": [
    "#Create a new column \"PriceRange\" based on the value of the \"UnitPrice\" column\n",
    "df2 = df2.withColumn(\"PriceRange\", when(df2[\"UnitPrice\"] < 500, \"Low\").when((df2[\"UnitPrice\"] >= 500) & (df2[\"UnitPrice\"] < 1200), \"Medium\").otherwise(\"High\"))"
   ]
  },
  {
   "cell_type": "code",
   "execution_count": 26,
   "id": "fa9e50b6",
   "metadata": {},
   "outputs": [],
   "source": [
    "def assign_category(product):\n",
    "    if \"necklace\" in product or \"ring\" in product or \"earrings\" in product or \"bracelets\" in product or \"gold\" in product or \"silver\" in product or \"tungsten carbide\" in product or \"diamonds\" in product or \"gemstones\" in product or \"amethyst\" in product or \"aquamarine\" in product or \"blue topaz\" in product:\n",
    "        return \"Jewelry\"\n",
    "    elif \"laptop\" in product or \"speakers\" in product or \"bamboo\" in product or \"beverage bag\" in product or \"thermos bottle\" in product or \"basic tee\" in product or \"Xiaomi\" in product or \"iPhone\" in product:\n",
    "        return \"Electronics\"\n",
    "    elif \"books\" in product or \"software programs\" in product or \"Windows\" in product or \"Digital downloads\" in product:\n",
    "        return \"Digital downloads\"\n",
    "    elif \"clothing\" in product or \"t-shirt\" in product or \"jeans\" in product or\"sneaker\" in product or \"shoes\" in product or \"jacket\" in product or \"joggers\" in product or \"vans\" in product or \"nike air force\" in product:\n",
    "        return \"Apparel\"\n",
    "    elif \"DỰ ÁN TMĐT\" in product:\n",
    "        return \"DỰ ÁN TMĐT\"\n",
    "    elif \"cell phone\" in product or \"smartwatch\" in product or \"smart home\" in product or \"smart lighting\" in product or \"smart lock\" in product:\n",
    "        return \"Computers\"\n",
    "    elif \"Gift Cards\" in product:\n",
    "        return \"Gift Cards\"\n",
    "    else:\n",
    "        return \"Others\"\n",
    "\n",
    "udf_assign_category = udf(assign_category, StringType())\n",
    "df2 = df2.withColumn(\"category\", udf_assign_category(\"Name\"))\n"
   ]
  },
  {
   "cell_type": "code",
   "execution_count": 27,
   "id": "cb88394d",
   "metadata": {},
   "outputs": [],
   "source": [
    "# Create a new column for the year and month of the CreateDate\n",
    "df3 = df3.withColumn(\"year\", year(df3[\"CreateDate\"]))\n",
    "df3 = df3.withColumn(\"month\", month(df3[\"CreateDate\"]))"
   ]
  },
  {
   "cell_type": "markdown",
   "id": "75a68914",
   "metadata": {},
   "source": [
    "## 4. Data Transformation: This task involves transforming the data into a format that is suitable for further analysis or modeling. For example, you can pivot the data, aggregate the data, or reshape the data."
   ]
  },
  {
   "cell_type": "code",
   "execution_count": 28,
   "id": "56e972ec",
   "metadata": {},
   "outputs": [
    {
     "data": {
      "text/html": [
       "<div>\n",
       "<style scoped>\n",
       "    .dataframe tbody tr th:only-of-type {\n",
       "        vertical-align: middle;\n",
       "    }\n",
       "\n",
       "    .dataframe tbody tr th {\n",
       "        vertical-align: top;\n",
       "    }\n",
       "\n",
       "    .dataframe thead th {\n",
       "        text-align: right;\n",
       "    }\n",
       "</style>\n",
       "<table border=\"1\" class=\"dataframe\">\n",
       "  <thead>\n",
       "    <tr style=\"text-align: right;\">\n",
       "      <th></th>\n",
       "      <th>id</th>\n",
       "      <th>nickname</th>\n",
       "    </tr>\n",
       "  </thead>\n",
       "  <tbody>\n",
       "    <tr>\n",
       "      <th>0</th>\n",
       "      <td>103560</td>\n",
       "      <td>anh.luongbao</td>\n",
       "    </tr>\n",
       "    <tr>\n",
       "      <th>1</th>\n",
       "      <td>103675</td>\n",
       "      <td>huonghue.che</td>\n",
       "    </tr>\n",
       "    <tr>\n",
       "      <th>2</th>\n",
       "      <td>103972</td>\n",
       "      <td>hong.dang.9235</td>\n",
       "    </tr>\n",
       "    <tr>\n",
       "      <th>3</th>\n",
       "      <td>103450</td>\n",
       "      <td>letranglotus</td>\n",
       "    </tr>\n",
       "    <tr>\n",
       "      <th>4</th>\n",
       "      <td>103324</td>\n",
       "      <td>phuc.trinh.313</td>\n",
       "    </tr>\n",
       "    <tr>\n",
       "      <th>...</th>\n",
       "      <td>...</td>\n",
       "      <td>...</td>\n",
       "    </tr>\n",
       "    <tr>\n",
       "      <th>673</th>\n",
       "      <td>103596</td>\n",
       "      <td>thanhcuong.tc</td>\n",
       "    </tr>\n",
       "    <tr>\n",
       "      <th>674</th>\n",
       "      <td>103632</td>\n",
       "      <td>thao.bui.50</td>\n",
       "    </tr>\n",
       "    <tr>\n",
       "      <th>675</th>\n",
       "      <td>103696</td>\n",
       "      <td>bryan846</td>\n",
       "    </tr>\n",
       "    <tr>\n",
       "      <th>676</th>\n",
       "      <td>103913</td>\n",
       "      <td>minh.nguyenthianh.7</td>\n",
       "    </tr>\n",
       "    <tr>\n",
       "      <th>677</th>\n",
       "      <td>103777</td>\n",
       "      <td>contes2</td>\n",
       "    </tr>\n",
       "  </tbody>\n",
       "</table>\n",
       "<p>678 rows × 2 columns</p>\n",
       "</div>"
      ],
      "text/plain": [
       "         id             nickname\n",
       "0    103560         anh.luongbao\n",
       "1    103675         huonghue.che\n",
       "2    103972       hong.dang.9235\n",
       "3    103450         letranglotus\n",
       "4    103324       phuc.trinh.313\n",
       "..      ...                  ...\n",
       "673  103596        thanhcuong.tc\n",
       "674  103632          thao.bui.50\n",
       "675  103696             bryan846\n",
       "676  103913  minh.nguyenthianh.7\n",
       "677  103777              contes2\n",
       "\n",
       "[678 rows x 2 columns]"
      ]
     },
     "execution_count": 28,
     "metadata": {},
     "output_type": "execute_result"
    }
   ],
   "source": [
    "df1.toPandas()"
   ]
  },
  {
   "cell_type": "code",
   "execution_count": 29,
   "id": "0f47b5e3",
   "metadata": {},
   "outputs": [],
   "source": [
    "# Pivot the data on the \"Name\" column, creating a new column for each unique value in the \"Name\" column\n",
    "pivot_df2 = df2.groupBy(\"Id\").pivot(\"Name\").agg(first(\"UnitPrice\"))"
   ]
  },
  {
   "cell_type": "code",
   "execution_count": 30,
   "id": "9a60b90b",
   "metadata": {},
   "outputs": [],
   "source": [
    "# Group the data by \"ProductID\" and calculate the average \"Rate\"\n",
    "df3_agg = df3.groupBy(\"ProductID\").agg(F.avg(\"Rate\").alias(\"AvgRate\"))\n",
    "\n",
    "# Pivot the data to get the \"AvgRate\" for each \"ProductID\" in a separate column\n",
    "df3_pivot = df3_agg.groupBy().pivot(\"ProductID\").agg(F.first(\"AvgRate\"))"
   ]
  },
  {
   "cell_type": "code",
   "execution_count": 31,
   "id": "0ddc51e6",
   "metadata": {},
   "outputs": [],
   "source": [
    "df3 = df3.drop('CreateDate')\n"
   ]
  },
  {
   "cell_type": "markdown",
   "id": "7e166f37",
   "metadata": {},
   "source": [
    "## 5. Data Validation: This task involves validating the data to ensure that it meets the required quality standards. For example, you can check for missing values, outliers, or inconsistent data values."
   ]
  },
  {
   "cell_type": "code",
   "execution_count": 32,
   "id": "46858bd8",
   "metadata": {},
   "outputs": [
    {
     "name": "stdout",
     "output_type": "stream",
     "text": [
      "+---+--------+\n",
      "| id|nickname|\n",
      "+---+--------+\n",
      "+---+--------+\n",
      "\n"
     ]
    }
   ],
   "source": [
    "df1.filter(isnull(df1[\"NickName\"])).show()"
   ]
  },
  {
   "cell_type": "code",
   "execution_count": 33,
   "id": "328164a8",
   "metadata": {},
   "outputs": [
    {
     "name": "stderr",
     "output_type": "stream",
     "text": [
      "\r",
      "[Stage 30:>                                                         (0 + 1) / 1]\r"
     ]
    },
    {
     "name": "stdout",
     "output_type": "stream",
     "text": [
      "+--------+-----+\n",
      "|NickName|count|\n",
      "+--------+-----+\n",
      "+--------+-----+\n",
      "\n"
     ]
    },
    {
     "name": "stderr",
     "output_type": "stream",
     "text": [
      "\r",
      "                                                                                \r"
     ]
    }
   ],
   "source": [
    "df1.groupBy(\"NickName\").count().filter(\"count > 1\").show()"
   ]
  },
  {
   "cell_type": "code",
   "execution_count": 34,
   "id": "8ce9a5b6",
   "metadata": {},
   "outputs": [],
   "source": [
    "# Remove outliers based on unit price being greater than 2000\n",
    "df2 = df2.filter(col(\"UnitPrice\") < 2000)\n",
    "\n",
    "df2 = df2.withColumn(\"is_valid\", when(col(\"UnitPrice\") < 0, False).otherwise(True))\n"
   ]
  },
  {
   "cell_type": "code",
   "execution_count": 35,
   "id": "269ce701",
   "metadata": {},
   "outputs": [
    {
     "name": "stderr",
     "output_type": "stream",
     "text": [
      "[Stage 38:=============================>                            (1 + 1) / 2]\r"
     ]
    },
    {
     "name": "stdout",
     "output_type": "stream",
     "text": [
      "[Row(customerid=0, productid=0, rate=0, year=0, month=0)]\n"
     ]
    },
    {
     "name": "stderr",
     "output_type": "stream",
     "text": [
      "\r",
      "                                                                                \r"
     ]
    }
   ],
   "source": [
    "# count the number of missing values in each column\n",
    "missing_values = df3.select([count(when(isnull(c), c)).alias(c) for c in df3.columns]).collect()\n",
    "print(missing_values)\n"
   ]
  },
  {
   "cell_type": "code",
   "execution_count": 36,
   "id": "79579971",
   "metadata": {},
   "outputs": [
    {
     "name": "stderr",
     "output_type": "stream",
     "text": [
      "\r",
      "[Stage 44:>                                                         (0 + 2) / 2]\r"
     ]
    },
    {
     "name": "stdout",
     "output_type": "stream",
     "text": [
      "+-------+-----------------+-----------------+------------------+------------------+------------------+\n",
      "|summary|       customerid|        productid|              rate|              year|             month|\n",
      "+-------+-----------------+-----------------+------------------+------------------+------------------+\n",
      "|  count|           130748|           130748|            130748|            130748|            130748|\n",
      "|   mean|99816.64361978769|345.4398231712913|3.1885535534004346|2019.6103190870988| 6.322131122464588|\n",
      "| stddev|  18029.136244901|199.3425933833639|1.5158247032388799|1.2061731658091754|3.5020728905885448|\n",
      "|    min|                3|                1|                 1|              2017|                 1|\n",
      "|    max|           103997|              691|                 5|              2022|                12|\n",
      "+-------+-----------------+-----------------+------------------+------------------+------------------+\n",
      "\n",
      "None\n"
     ]
    },
    {
     "name": "stderr",
     "output_type": "stream",
     "text": [
      "\r",
      "                                                                                \r"
     ]
    }
   ],
   "source": [
    "# get the summary statistics of the data\n",
    "summary = df3.describe()\n",
    "print(summary.show())"
   ]
  },
  {
   "cell_type": "code",
   "execution_count": 37,
   "id": "4265e147",
   "metadata": {},
   "outputs": [],
   "source": [
    "# check for rate values that are outside the expected range\n",
    "df3 = df3.filter((df3.rate >= 1) & (df3.rate <= 5))"
   ]
  },
  {
   "cell_type": "code",
   "execution_count": 38,
   "id": "67a4e422",
   "metadata": {},
   "outputs": [
    {
     "name": "stderr",
     "output_type": "stream",
     "text": [
      "23/02/21 00:27:29 WARN SessionState: METASTORE_FILTER_HOOK will be ignored, since hive.security.authorization.manager is set to instance of HiveAuthorizerFactory.\n",
      "                                                                                \r"
     ]
    }
   ],
   "source": [
    "# Create Hive Internal table\n",
    "df1.write.mode('overwrite') \\\n",
    "         .saveAsTable(\"commerce.cleaned_customers\")\n",
    "df2.write.mode('overwrite') \\\n",
    "         .saveAsTable(\"commerce.cleaned_products\")\n",
    "df3.write.mode('overwrite') \\\n",
    "         .saveAsTable(\"commerce.cleaned_ratings\")"
   ]
  },
  {
   "cell_type": "code",
   "execution_count": 39,
   "id": "65394d5f",
   "metadata": {},
   "outputs": [],
   "source": [
    "spark.stop()"
   ]
  }
 ],
 "metadata": {
  "kernelspec": {
   "display_name": "Python 3 (ipykernel)",
   "language": "python",
   "name": "python3"
  },
  "language_info": {
   "codemirror_mode": {
    "name": "ipython",
    "version": 3
   },
   "file_extension": ".py",
   "mimetype": "text/x-python",
   "name": "python",
   "nbconvert_exporter": "python",
   "pygments_lexer": "ipython3",
   "version": "3.10.6"
  }
 },
 "nbformat": 4,
 "nbformat_minor": 5
}
